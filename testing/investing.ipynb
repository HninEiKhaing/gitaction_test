{
 "cells": [
  {
   "cell_type": "code",
   "execution_count": 2,
   "metadata": {},
   "outputs": [],
   "source": [
    "import pandas as pd\n",
    "import numpy as np\n",
    "import plotly.graph_objects as go\n",
    "import plotly.io as pio\n",
    "from plotly.subplots import make_subplots\n",
    "from datetime import timedelta\n",
    "from dateutil.relativedelta import relativedelta"
   ]
  },
  {
   "cell_type": "code",
   "execution_count": 3,
   "metadata": {},
   "outputs": [
    {
     "data": {
      "application/vnd.plotly.v1+json": {
       "config": {
        "plotlyServerURL": "https://plot.ly"
       },
       "data": [
        {
         "close": {
          "bdata": "MzMzMzPwpkAzMzMzMxinQGZmZmZmEqdAZmZmZmYLp0AAAAAAALSmQJqZmZmZy6ZAzczMzMyfpkAAAAAAAEGmQDMzMzMzqqZAMzMzMzPRpkAAAAAAANymQDMzMzMz3aZAMzMzMzPEpkDNzMzMzKamQM3MzMzM0aZAmpmZmZkFp0CamZmZmV6nQDMzMzMzcqdAMzMzMzO0p0DNzMzMzPmnQDMzMzMz+qdAmpmZmZn+p0DNzMzMzNCnQAAAAAAAyKdAMzMzMzO/p0CamZmZmbqnQJqZmZmZB6hAmpmZmZlUqECamZmZmZyoQAAAAAAAlKhAZmZmZma8qEBmZmZmZmOoQM3MzMzMtqdAMzMzMzM7p0BmZmZmZlynQM3MzMzMDqhAAAAAAADTqEAzMzMzM1mpQJqZmZmZNKlA4XoUrkeKqUAK16NwvdCpQA==",
          "dtype": "f8"
         },
         "high": {
          "bdata": "zczMzMwop0DNzMzMzDqnQGZmZmZmKadAAAAAAAAgp0DNzMzMzBenQM3MzMzM3KZAmpmZmZnvpkAzMzMzM6CmQM3MzMzMtKZAmpmZmZn3pkCamZmZmfqmQM3MzMzM76ZAmpmZmZn1pkDNzMzMzNymQAAAAAAA4qZAzczMzMwJp0AAAAAAAHOnQDMzMzMzkqdAMzMzMzO9p0AzMzMzMwaoQM3MzMzMIqhAmpmZmZkpqEBmZmZmZhSoQM3MzMzM9KdAzczMzMzep0BmZmZmZtOnQAAAAAAAHKhAzczMzMxoqEAAAAAAALSoQAAAAAAA0qhAMzMzMzMDqUAzMzMzM/moQGZmZmZmsKhAzczMzMwYqEDNzMzMzLunQAAAAAAAXahAAAAAAAD2qEAAAAAAAH6pQDMzMzMze6lA4XoUrkeKqUAK16NwPdOpQA==",
          "dtype": "f8"
         },
         "low": {
          "bdata": "ZmZmZmbrpkCamZmZmfamQDMzMzMz5KZAzczMzMzcpkAAAAAAAImmQAAAAAAAlqZAAAAAAAB+pkAzMzMzMzimQJqZmZmZZKZAAAAAAACZpkDNzMzMzK6mQDMzMzMzo6ZAmpmZmZmypkBmZmZmZoqmQAAAAAAAhaZAAAAAAAC+pkBmZmZmZvymQDMzMzMzWadAAAAAAACXp0AAAAAAALinQGZmZmZm5qdAmpmZmZnop0BmZmZmZq6nQAAAAAAAuKdAzczMzMyjp0CamZmZmbGnQM3MzMzMvadAmpmZmZkwqEDNzMzMzFCoQAAAAAAAdahAZmZmZmZ/qEAAAAAAAAOoQGZmZmZmsadAzczMzMw0p0AzMzMzM1mnQJqZmZmZTqdAMzMzMzMcqEDNzMzMzPKoQGZmZmZmEalAAAAAAAAzqUCF61G4HoupQA==",
          "dtype": "f8"
         },
         "name": "Candles",
         "open": {
          "bdata": "MzMzMzMUp0AAAAAAAAunQGZmZmZmF6dAmpmZmZn2pkDNzMzMzBenQDMzMzMzx6ZAzczMzMzmpkAAAAAAAJKmQAAAAAAAcKZAZmZmZmawpkAAAAAAAOKmQAAAAAAA46ZAZmZmZmbOpkAzMzMzM8+mQGZmZmZmmqZAmpmZmZnUpkCamZmZmf6mQM3MzMzMcqdAZmZmZmaap0DNzMzMzLmnQJqZmZmZ+qdAMzMzMzMbqEAzMzMzMxCoQGZmZmZm3adAMzMzMzOtp0AAAAAAAL+nQM3MzMzMwadAmpmZmZk2qECamZmZmV2oQJqZmZmZqqhAAAAAAACXqEAzMzMzM/moQAAAAAAAhKhAMzMzMzPep0AAAAAAAGunQJqZmZmZbKdAMzMzMzM2qEBmZmZmZvSoQAAAAAAAXKlAMzMzMzM0qUCF61G4HoupQA==",
          "dtype": "f8"
         },
         "type": "candlestick",
         "x": [
          "2025-02-19",
          "2025-02-20",
          "2025-02-21",
          "2025-02-24",
          "2025-02-25",
          "2025-02-26",
          "2025-02-27",
          "2025-02-28",
          "2025-03-03",
          "2025-03-04",
          "2025-03-05",
          "2025-03-06",
          "2025-03-07",
          "2025-03-10",
          "2025-03-11",
          "2025-03-12",
          "2025-03-13",
          "2025-03-14",
          "2025-03-17",
          "2025-03-18",
          "2025-03-19",
          "2025-03-20",
          "2025-03-21",
          "2025-03-24",
          "2025-03-25",
          "2025-03-26",
          "2025-03-27",
          "2025-03-28",
          "2025-03-31",
          "2025-04-01",
          "2025-04-02",
          "2025-04-03",
          "2025-04-04",
          "2025-04-07",
          "2025-04-08",
          "2025-04-09",
          "2025-04-10",
          "2025-04-11",
          "2025-04-14",
          "2025-04-15",
          "2025-04-16"
         ],
         "xaxis": "x",
         "yaxis": "y"
        },
        {
         "line": {
          "color": "blue"
         },
         "mode": "lines",
         "name": "CCI",
         "type": "scatter",
         "x": [
          "2025-02-19",
          "2025-02-20",
          "2025-02-21",
          "2025-02-24",
          "2025-02-25",
          "2025-02-26",
          "2025-02-27",
          "2025-02-28",
          "2025-03-03",
          "2025-03-04",
          "2025-03-05",
          "2025-03-06",
          "2025-03-07",
          "2025-03-10",
          "2025-03-11",
          "2025-03-12",
          "2025-03-13",
          "2025-03-14",
          "2025-03-17",
          "2025-03-18",
          "2025-03-19",
          "2025-03-20",
          "2025-03-21",
          "2025-03-24",
          "2025-03-25",
          "2025-03-26",
          "2025-03-27",
          "2025-03-28",
          "2025-03-31",
          "2025-04-01",
          "2025-04-02",
          "2025-04-03",
          "2025-04-04",
          "2025-04-07",
          "2025-04-08",
          "2025-04-09",
          "2025-04-10",
          "2025-04-11",
          "2025-04-14",
          "2025-04-15",
          "2025-04-16"
         ],
         "xaxis": "x2",
         "y": {
          "bdata": "4MvqPdAPWUCfvvfLzOxZQKJCaI6hKFZAd94EnbZtU0AQFE/UEn5AQN6p+OHwCzRAZKXfuLJiF8DeEA/febRZwO1K/6z6WEjAINzpqOdCJUB8F7HPRSU2QOALY/gPAxVAWtMN8EPlFsAhD2JQdK1SwATr6OS1R0XAxBGre7gWTkA/v+8M2aVnQPBue7q5rWtAkUktRlwQbUCIj9r/YHRsQDp8Z1+vkmhAQL1nEr0nZECvecIAiSVcQCUBgdBTIFdANdnHl82LUkCcX61RgZtQQASDIBAtKFVAqvyN5WagXUCJs+iq+vpgQOewHFNpoWBA4xF3xB1xYUCTHLfPP+hXQPI7WBV7TT9A8XDhFZ9fTsB81PDj//BTwCJKRHLzQSPAwVcNIm/iX0Dt1jBvp1VpQGBJ3u9LlGRAv41e2eHwY0BSD8wmSuBkQA==",
          "dtype": "f8"
         },
         "yaxis": "y2"
        },
        {
         "line": {
          "color": "purple"
         },
         "mode": "lines",
         "name": "ADX",
         "type": "scatter",
         "x": [
          "2025-02-19",
          "2025-02-20",
          "2025-02-21",
          "2025-02-24",
          "2025-02-25",
          "2025-02-26",
          "2025-02-27",
          "2025-02-28",
          "2025-03-03",
          "2025-03-04",
          "2025-03-05",
          "2025-03-06",
          "2025-03-07",
          "2025-03-10",
          "2025-03-11",
          "2025-03-12",
          "2025-03-13",
          "2025-03-14",
          "2025-03-17",
          "2025-03-18",
          "2025-03-19",
          "2025-03-20",
          "2025-03-21",
          "2025-03-24",
          "2025-03-25",
          "2025-03-26",
          "2025-03-27",
          "2025-03-28",
          "2025-03-31",
          "2025-04-01",
          "2025-04-02",
          "2025-04-03",
          "2025-04-04",
          "2025-04-07",
          "2025-04-08",
          "2025-04-09",
          "2025-04-10",
          "2025-04-11",
          "2025-04-14",
          "2025-04-15",
          "2025-04-16"
         ],
         "xaxis": "x3",
         "y": {
          "bdata": "vdxzWwwmQ0C4xvUeDiVCQFIiOvVoDUFAPr55/gGIQEDlRGj8CVk+QNNr3O4LiDtAHRBE+gu0OUAVWGIOHQ45QHgX9/t+FDlAfpH4VsGwOECSAHoK4Ic3QJrKhNNHlTdAQQLA8CujNkDv66AfMDs2QOMOG9ZXPDZAAobgSpukNkBmY7KbmK41QE9b6uwbjzRAUGMsknP9NkB7nPkIft85QKm5D5UGgz1A6O+53nKrQEDWm8rQdIVBQL1RQCUcUEJAh3b9ui0fQ0CHqmHP7nNDQPbAaSxwlkRAZU+1ZMIZRkAzYWIQkIxHQEAYZGocQ0lADYAMQLrWS0DNTTFNzeBMQKL3FpGWJUxAGbgX4jbtSkBVR0Ah6F1JQDXStcOCCkdACXVw2+A9RkB672yHetNFQG+LgN25wEVAuxbWnMqkRUB4FQ0iZUlFQA==",
          "dtype": "f8"
         },
         "yaxis": "y3"
        },
        {
         "line": {
          "color": "blue"
         },
         "mode": "lines",
         "name": "%K",
         "type": "scatter",
         "x": [
          "2025-02-19",
          "2025-02-20",
          "2025-02-21",
          "2025-02-24",
          "2025-02-25",
          "2025-02-26",
          "2025-02-27",
          "2025-02-28",
          "2025-03-03",
          "2025-03-04",
          "2025-03-05",
          "2025-03-06",
          "2025-03-07",
          "2025-03-10",
          "2025-03-11",
          "2025-03-12",
          "2025-03-13",
          "2025-03-14",
          "2025-03-17",
          "2025-03-18",
          "2025-03-19",
          "2025-03-20",
          "2025-03-21",
          "2025-03-24",
          "2025-03-25",
          "2025-03-26",
          "2025-03-27",
          "2025-03-28",
          "2025-03-31",
          "2025-04-01",
          "2025-04-02",
          "2025-04-03",
          "2025-04-04",
          "2025-04-07",
          "2025-04-08",
          "2025-04-09",
          "2025-04-10",
          "2025-04-11",
          "2025-04-14",
          "2025-04-15",
          "2025-04-16"
         ],
         "xaxis": "x4",
         "y": {
          "bdata": "GlYPq4dVVEDW7BdiRXlWQOXUtRzcDFZAp7S0tLSkVECUIp91g4lFQGPks24whUpAZ3gTjnRZNEBQaesHODkLQDkOmACxCkZAZ3EP+hWVTUAzOsIXqKtPQLDeR6kN509AAvs8/J4RS0AivPKOZmJFQL5D0sLIsk1ACpspOhVKVUDa+QCvQmFXQOEIIq0XsFZAEHvBku1rWEDsULGgOVRYQJ3h1uFc7lZA+oFSln6gVkBJGhiWybhTQNhYCi3iMlNAZ5f8w/qsUkDgIJ77+2ZSQGJ91tKk+lZAH+NqOsj0V0DWKdVdrNVXQI5Rr4oGs1VACJsDiVbYVEAKmhjFvg9MQGQ3VNa1oBVAE2BSQzQl9j8etxFsxiAhQL0wqSGakkdAS+6TOd9kVkAzm78Pim1XQAaQfxFE3VVAAAAAAAAAWUBFYk6UIuhYQA==",
          "dtype": "f8"
         },
         "yaxis": "y4"
        },
        {
         "line": {
          "color": "orange"
         },
         "mode": "lines",
         "name": "%D",
         "type": "scatter",
         "x": [
          "2025-02-19",
          "2025-02-20",
          "2025-02-21",
          "2025-02-24",
          "2025-02-25",
          "2025-02-26",
          "2025-02-27",
          "2025-02-28",
          "2025-03-03",
          "2025-03-04",
          "2025-03-05",
          "2025-03-06",
          "2025-03-07",
          "2025-03-10",
          "2025-03-11",
          "2025-03-12",
          "2025-03-13",
          "2025-03-14",
          "2025-03-17",
          "2025-03-18",
          "2025-03-19",
          "2025-03-20",
          "2025-03-21",
          "2025-03-24",
          "2025-03-25",
          "2025-03-26",
          "2025-03-27",
          "2025-03-28",
          "2025-03-31",
          "2025-04-01",
          "2025-04-02",
          "2025-04-03",
          "2025-04-04",
          "2025-04-07",
          "2025-04-08",
          "2025-04-09",
          "2025-04-10",
          "2025-04-11",
          "2025-04-14",
          "2025-04-15",
          "2025-04-16"
         ],
         "xaxis": "x4",
         "y": {
          "bdata": "hCCrrGb+U0ANcR5dssVVQPMHn7iNnlVAzHwrEfK4VUBIXhOEG9JRQG0llMQJyE1AueseuSRpQ0DJ5NLO/pg5QANWwNqpnDZAEhJifnPGQUCc6M2wz8NLQG+DCOlDDU9A91vC6cY2TkBHh9JmBslKQEz+VW/vDEpA/REIQnM4T0DsPDFu6dZTQJg0xNzPc1ZA7ylM+hd/V0Cg8Yb1FNBXQN85w7HW5FdAgZHzsrFLV0Cg1BVajMJVQAmn0R0OhFRA2FgKLeIyU0BgsOFOSMJSQI+8JYbeBFRAdYBKWHjHVUBzgwd5CJdXQCzKT7bTKVdAz1wte1ggVkA0ExXSvttSQFhyozDWJkhApiKpFqr4NEA8v27qL3kUQK/L2un4BzNAX36cutg2SED0tWJz5zNTQCyzm3Pkj1ZAE7m/tURuV0Bv+5mMd+xXQA==",
          "dtype": "f8"
         },
         "yaxis": "y4"
        },
        {
         "marker": {
          "color": "green",
          "size": 10,
          "symbol": "triangle-up"
         },
         "mode": "markers",
         "name": "Bullish Divergence on CCI",
         "type": "scatter",
         "x": [],
         "xaxis": "x2",
         "y": [],
         "yaxis": "y2"
        },
        {
         "marker": {
          "color": "red",
          "size": 10,
          "symbol": "triangle-down"
         },
         "mode": "markers",
         "name": "Bearish Divergence on CCI",
         "type": "scatter",
         "x": [
          "2025-03-18",
          "2025-03-19",
          "2025-03-20",
          "2025-04-15"
         ],
         "xaxis": "x2",
         "y": {
          "bdata": "iI/a/2B0bEA6fGdfr5JoQEC9ZxK9J2RAv41e2eHwY0A=",
          "dtype": "f8"
         },
         "yaxis": "y2"
        },
        {
         "marker": {
          "color": "blue",
          "size": 10,
          "symbol": "triangle-up"
         },
         "mode": "markers",
         "name": "Bullish Convergence",
         "type": "scatter",
         "x": [
          "2025-02-20",
          "2025-03-03",
          "2025-03-04",
          "2025-03-05",
          "2025-03-11",
          "2025-03-12",
          "2025-03-13",
          "2025-03-14",
          "2025-03-27",
          "2025-03-28",
          "2025-03-31",
          "2025-04-02",
          "2025-04-09",
          "2025-04-10",
          "2025-04-11"
         ],
         "xaxis": "x",
         "y": {
          "bdata": "MzMzMzMYp0AzMzMzM6qmQDMzMzMz0aZAAAAAAADcpkDNzMzMzNGmQJqZmZmZBadAmpmZmZlep0AzMzMzM3KnQJqZmZmZB6hAmpmZmZlUqECamZmZmZyoQGZmZmZmvKhAzczMzMwOqEAAAAAAANOoQDMzMzMzWalA",
          "dtype": "f8"
         },
         "yaxis": "y"
        },
        {
         "marker": {
          "color": "orange",
          "size": 10,
          "symbol": "triangle-down"
         },
         "mode": "markers",
         "name": "Bearish Convergence",
         "type": "scatter",
         "x": [
          "2025-02-21",
          "2025-02-24",
          "2025-02-25",
          "2025-02-28",
          "2025-03-21",
          "2025-03-24",
          "2025-03-25",
          "2025-03-26",
          "2025-04-01"
         ],
         "xaxis": "x",
         "y": {
          "bdata": "ZmZmZmYSp0BmZmZmZgunQAAAAAAAtKZAAAAAAABBpkDNzMzMzNCnQAAAAAAAyKdAMzMzMzO/p0CamZmZmbqnQAAAAAAAlKhA",
          "dtype": "f8"
         },
         "yaxis": "y"
        }
       ],
       "layout": {
        "annotations": [
         {
          "font": {
           "size": 16
          },
          "showarrow": false,
          "text": "Candlestick Chart",
          "x": 0.5,
          "xanchor": "center",
          "xref": "paper",
          "y": 1,
          "yanchor": "bottom",
          "yref": "paper"
         },
         {
          "font": {
           "size": 16
          },
          "showarrow": false,
          "text": "CCI",
          "x": 0.5,
          "xanchor": "center",
          "xref": "paper",
          "y": 0.604,
          "yanchor": "bottom",
          "yref": "paper"
         },
         {
          "font": {
           "size": 16
          },
          "showarrow": false,
          "text": "ADX",
          "x": 0.5,
          "xanchor": "center",
          "xref": "paper",
          "y": 0.396,
          "yanchor": "bottom",
          "yref": "paper"
         },
         {
          "font": {
           "size": 16
          },
          "showarrow": false,
          "text": "Stochastic Oscillator",
          "x": 0.5,
          "xanchor": "center",
          "xref": "paper",
          "y": 0.188,
          "yanchor": "bottom",
          "yref": "paper"
         }
        ],
        "height": 800,
        "shapes": [
         {
          "line": {
           "color": "red",
           "dash": "dash",
           "width": 2
          },
          "type": "line",
          "x0": "2025-02-19",
          "x1": "2025-04-16",
          "xref": "x4",
          "y0": 80,
          "y1": 80,
          "yref": "y4"
         },
         {
          "line": {
           "color": "green",
           "dash": "dash",
           "width": 2
          },
          "type": "line",
          "x0": "2025-02-19",
          "x1": "2025-04-16",
          "xref": "x4",
          "y0": 20,
          "y1": 20,
          "yref": "y4"
         },
         {
          "line": {
           "color": "green",
           "dash": "dash",
           "width": 2
          },
          "type": "line",
          "x0": "2025-02-19",
          "x1": "2025-04-16",
          "xref": "x2",
          "y0": 100,
          "y1": 100,
          "yref": "y2"
         },
         {
          "line": {
           "color": "purple",
           "dash": "dash",
           "width": 2
          },
          "type": "line",
          "x0": "2025-02-19",
          "x1": "2025-04-16",
          "xref": "x2",
          "y0": -100,
          "y1": -100,
          "yref": "y2"
         },
         {
          "line": {
           "color": "black",
           "dash": "dot",
           "width": 1
          },
          "type": "line",
          "x0": "2025-02-19",
          "x1": "2025-04-16",
          "xref": "x2",
          "y0": 0,
          "y1": 0,
          "yref": "y2"
         }
        ],
        "showlegend": true,
        "template": {
         "data": {
          "bar": [
           {
            "error_x": {
             "color": "#2a3f5f"
            },
            "error_y": {
             "color": "#2a3f5f"
            },
            "marker": {
             "line": {
              "color": "white",
              "width": 0.5
             },
             "pattern": {
              "fillmode": "overlay",
              "size": 10,
              "solidity": 0.2
             }
            },
            "type": "bar"
           }
          ],
          "barpolar": [
           {
            "marker": {
             "line": {
              "color": "white",
              "width": 0.5
             },
             "pattern": {
              "fillmode": "overlay",
              "size": 10,
              "solidity": 0.2
             }
            },
            "type": "barpolar"
           }
          ],
          "carpet": [
           {
            "aaxis": {
             "endlinecolor": "#2a3f5f",
             "gridcolor": "#C8D4E3",
             "linecolor": "#C8D4E3",
             "minorgridcolor": "#C8D4E3",
             "startlinecolor": "#2a3f5f"
            },
            "baxis": {
             "endlinecolor": "#2a3f5f",
             "gridcolor": "#C8D4E3",
             "linecolor": "#C8D4E3",
             "minorgridcolor": "#C8D4E3",
             "startlinecolor": "#2a3f5f"
            },
            "type": "carpet"
           }
          ],
          "choropleth": [
           {
            "colorbar": {
             "outlinewidth": 0,
             "ticks": ""
            },
            "type": "choropleth"
           }
          ],
          "contour": [
           {
            "colorbar": {
             "outlinewidth": 0,
             "ticks": ""
            },
            "colorscale": [
             [
              0,
              "#0d0887"
             ],
             [
              0.1111111111111111,
              "#46039f"
             ],
             [
              0.2222222222222222,
              "#7201a8"
             ],
             [
              0.3333333333333333,
              "#9c179e"
             ],
             [
              0.4444444444444444,
              "#bd3786"
             ],
             [
              0.5555555555555556,
              "#d8576b"
             ],
             [
              0.6666666666666666,
              "#ed7953"
             ],
             [
              0.7777777777777778,
              "#fb9f3a"
             ],
             [
              0.8888888888888888,
              "#fdca26"
             ],
             [
              1,
              "#f0f921"
             ]
            ],
            "type": "contour"
           }
          ],
          "contourcarpet": [
           {
            "colorbar": {
             "outlinewidth": 0,
             "ticks": ""
            },
            "type": "contourcarpet"
           }
          ],
          "heatmap": [
           {
            "colorbar": {
             "outlinewidth": 0,
             "ticks": ""
            },
            "colorscale": [
             [
              0,
              "#0d0887"
             ],
             [
              0.1111111111111111,
              "#46039f"
             ],
             [
              0.2222222222222222,
              "#7201a8"
             ],
             [
              0.3333333333333333,
              "#9c179e"
             ],
             [
              0.4444444444444444,
              "#bd3786"
             ],
             [
              0.5555555555555556,
              "#d8576b"
             ],
             [
              0.6666666666666666,
              "#ed7953"
             ],
             [
              0.7777777777777778,
              "#fb9f3a"
             ],
             [
              0.8888888888888888,
              "#fdca26"
             ],
             [
              1,
              "#f0f921"
             ]
            ],
            "type": "heatmap"
           }
          ],
          "histogram": [
           {
            "marker": {
             "pattern": {
              "fillmode": "overlay",
              "size": 10,
              "solidity": 0.2
             }
            },
            "type": "histogram"
           }
          ],
          "histogram2d": [
           {
            "colorbar": {
             "outlinewidth": 0,
             "ticks": ""
            },
            "colorscale": [
             [
              0,
              "#0d0887"
             ],
             [
              0.1111111111111111,
              "#46039f"
             ],
             [
              0.2222222222222222,
              "#7201a8"
             ],
             [
              0.3333333333333333,
              "#9c179e"
             ],
             [
              0.4444444444444444,
              "#bd3786"
             ],
             [
              0.5555555555555556,
              "#d8576b"
             ],
             [
              0.6666666666666666,
              "#ed7953"
             ],
             [
              0.7777777777777778,
              "#fb9f3a"
             ],
             [
              0.8888888888888888,
              "#fdca26"
             ],
             [
              1,
              "#f0f921"
             ]
            ],
            "type": "histogram2d"
           }
          ],
          "histogram2dcontour": [
           {
            "colorbar": {
             "outlinewidth": 0,
             "ticks": ""
            },
            "colorscale": [
             [
              0,
              "#0d0887"
             ],
             [
              0.1111111111111111,
              "#46039f"
             ],
             [
              0.2222222222222222,
              "#7201a8"
             ],
             [
              0.3333333333333333,
              "#9c179e"
             ],
             [
              0.4444444444444444,
              "#bd3786"
             ],
             [
              0.5555555555555556,
              "#d8576b"
             ],
             [
              0.6666666666666666,
              "#ed7953"
             ],
             [
              0.7777777777777778,
              "#fb9f3a"
             ],
             [
              0.8888888888888888,
              "#fdca26"
             ],
             [
              1,
              "#f0f921"
             ]
            ],
            "type": "histogram2dcontour"
           }
          ],
          "mesh3d": [
           {
            "colorbar": {
             "outlinewidth": 0,
             "ticks": ""
            },
            "type": "mesh3d"
           }
          ],
          "parcoords": [
           {
            "line": {
             "colorbar": {
              "outlinewidth": 0,
              "ticks": ""
             }
            },
            "type": "parcoords"
           }
          ],
          "pie": [
           {
            "automargin": true,
            "type": "pie"
           }
          ],
          "scatter": [
           {
            "fillpattern": {
             "fillmode": "overlay",
             "size": 10,
             "solidity": 0.2
            },
            "type": "scatter"
           }
          ],
          "scatter3d": [
           {
            "line": {
             "colorbar": {
              "outlinewidth": 0,
              "ticks": ""
             }
            },
            "marker": {
             "colorbar": {
              "outlinewidth": 0,
              "ticks": ""
             }
            },
            "type": "scatter3d"
           }
          ],
          "scattercarpet": [
           {
            "marker": {
             "colorbar": {
              "outlinewidth": 0,
              "ticks": ""
             }
            },
            "type": "scattercarpet"
           }
          ],
          "scattergeo": [
           {
            "marker": {
             "colorbar": {
              "outlinewidth": 0,
              "ticks": ""
             }
            },
            "type": "scattergeo"
           }
          ],
          "scattergl": [
           {
            "marker": {
             "colorbar": {
              "outlinewidth": 0,
              "ticks": ""
             }
            },
            "type": "scattergl"
           }
          ],
          "scattermap": [
           {
            "marker": {
             "colorbar": {
              "outlinewidth": 0,
              "ticks": ""
             }
            },
            "type": "scattermap"
           }
          ],
          "scattermapbox": [
           {
            "marker": {
             "colorbar": {
              "outlinewidth": 0,
              "ticks": ""
             }
            },
            "type": "scattermapbox"
           }
          ],
          "scatterpolar": [
           {
            "marker": {
             "colorbar": {
              "outlinewidth": 0,
              "ticks": ""
             }
            },
            "type": "scatterpolar"
           }
          ],
          "scatterpolargl": [
           {
            "marker": {
             "colorbar": {
              "outlinewidth": 0,
              "ticks": ""
             }
            },
            "type": "scatterpolargl"
           }
          ],
          "scatterternary": [
           {
            "marker": {
             "colorbar": {
              "outlinewidth": 0,
              "ticks": ""
             }
            },
            "type": "scatterternary"
           }
          ],
          "surface": [
           {
            "colorbar": {
             "outlinewidth": 0,
             "ticks": ""
            },
            "colorscale": [
             [
              0,
              "#0d0887"
             ],
             [
              0.1111111111111111,
              "#46039f"
             ],
             [
              0.2222222222222222,
              "#7201a8"
             ],
             [
              0.3333333333333333,
              "#9c179e"
             ],
             [
              0.4444444444444444,
              "#bd3786"
             ],
             [
              0.5555555555555556,
              "#d8576b"
             ],
             [
              0.6666666666666666,
              "#ed7953"
             ],
             [
              0.7777777777777778,
              "#fb9f3a"
             ],
             [
              0.8888888888888888,
              "#fdca26"
             ],
             [
              1,
              "#f0f921"
             ]
            ],
            "type": "surface"
           }
          ],
          "table": [
           {
            "cells": {
             "fill": {
              "color": "#EBF0F8"
             },
             "line": {
              "color": "white"
             }
            },
            "header": {
             "fill": {
              "color": "#C8D4E3"
             },
             "line": {
              "color": "white"
             }
            },
            "type": "table"
           }
          ]
         },
         "layout": {
          "annotationdefaults": {
           "arrowcolor": "#2a3f5f",
           "arrowhead": 0,
           "arrowwidth": 1
          },
          "autotypenumbers": "strict",
          "coloraxis": {
           "colorbar": {
            "outlinewidth": 0,
            "ticks": ""
           }
          },
          "colorscale": {
           "diverging": [
            [
             0,
             "#8e0152"
            ],
            [
             0.1,
             "#c51b7d"
            ],
            [
             0.2,
             "#de77ae"
            ],
            [
             0.3,
             "#f1b6da"
            ],
            [
             0.4,
             "#fde0ef"
            ],
            [
             0.5,
             "#f7f7f7"
            ],
            [
             0.6,
             "#e6f5d0"
            ],
            [
             0.7,
             "#b8e186"
            ],
            [
             0.8,
             "#7fbc41"
            ],
            [
             0.9,
             "#4d9221"
            ],
            [
             1,
             "#276419"
            ]
           ],
           "sequential": [
            [
             0,
             "#0d0887"
            ],
            [
             0.1111111111111111,
             "#46039f"
            ],
            [
             0.2222222222222222,
             "#7201a8"
            ],
            [
             0.3333333333333333,
             "#9c179e"
            ],
            [
             0.4444444444444444,
             "#bd3786"
            ],
            [
             0.5555555555555556,
             "#d8576b"
            ],
            [
             0.6666666666666666,
             "#ed7953"
            ],
            [
             0.7777777777777778,
             "#fb9f3a"
            ],
            [
             0.8888888888888888,
             "#fdca26"
            ],
            [
             1,
             "#f0f921"
            ]
           ],
           "sequentialminus": [
            [
             0,
             "#0d0887"
            ],
            [
             0.1111111111111111,
             "#46039f"
            ],
            [
             0.2222222222222222,
             "#7201a8"
            ],
            [
             0.3333333333333333,
             "#9c179e"
            ],
            [
             0.4444444444444444,
             "#bd3786"
            ],
            [
             0.5555555555555556,
             "#d8576b"
            ],
            [
             0.6666666666666666,
             "#ed7953"
            ],
            [
             0.7777777777777778,
             "#fb9f3a"
            ],
            [
             0.8888888888888888,
             "#fdca26"
            ],
            [
             1,
             "#f0f921"
            ]
           ]
          },
          "colorway": [
           "#636efa",
           "#EF553B",
           "#00cc96",
           "#ab63fa",
           "#FFA15A",
           "#19d3f3",
           "#FF6692",
           "#B6E880",
           "#FF97FF",
           "#FECB52"
          ],
          "font": {
           "color": "#2a3f5f"
          },
          "geo": {
           "bgcolor": "white",
           "lakecolor": "white",
           "landcolor": "white",
           "showlakes": true,
           "showland": true,
           "subunitcolor": "#C8D4E3"
          },
          "hoverlabel": {
           "align": "left"
          },
          "hovermode": "closest",
          "mapbox": {
           "style": "light"
          },
          "paper_bgcolor": "white",
          "plot_bgcolor": "white",
          "polar": {
           "angularaxis": {
            "gridcolor": "#EBF0F8",
            "linecolor": "#EBF0F8",
            "ticks": ""
           },
           "bgcolor": "white",
           "radialaxis": {
            "gridcolor": "#EBF0F8",
            "linecolor": "#EBF0F8",
            "ticks": ""
           }
          },
          "scene": {
           "xaxis": {
            "backgroundcolor": "white",
            "gridcolor": "#DFE8F3",
            "gridwidth": 2,
            "linecolor": "#EBF0F8",
            "showbackground": true,
            "ticks": "",
            "zerolinecolor": "#EBF0F8"
           },
           "yaxis": {
            "backgroundcolor": "white",
            "gridcolor": "#DFE8F3",
            "gridwidth": 2,
            "linecolor": "#EBF0F8",
            "showbackground": true,
            "ticks": "",
            "zerolinecolor": "#EBF0F8"
           },
           "zaxis": {
            "backgroundcolor": "white",
            "gridcolor": "#DFE8F3",
            "gridwidth": 2,
            "linecolor": "#EBF0F8",
            "showbackground": true,
            "ticks": "",
            "zerolinecolor": "#EBF0F8"
           }
          },
          "shapedefaults": {
           "line": {
            "color": "#2a3f5f"
           }
          },
          "ternary": {
           "aaxis": {
            "gridcolor": "#DFE8F3",
            "linecolor": "#A2B1C6",
            "ticks": ""
           },
           "baxis": {
            "gridcolor": "#DFE8F3",
            "linecolor": "#A2B1C6",
            "ticks": ""
           },
           "bgcolor": "white",
           "caxis": {
            "gridcolor": "#DFE8F3",
            "linecolor": "#A2B1C6",
            "ticks": ""
           }
          },
          "title": {
           "x": 0.05
          },
          "xaxis": {
           "automargin": true,
           "gridcolor": "#EBF0F8",
           "linecolor": "#EBF0F8",
           "ticks": "",
           "title": {
            "standoff": 15
           },
           "zerolinecolor": "#EBF0F8",
           "zerolinewidth": 2
          },
          "yaxis": {
           "automargin": true,
           "gridcolor": "#EBF0F8",
           "linecolor": "#EBF0F8",
           "ticks": "",
           "title": {
            "standoff": 15
           },
           "zerolinecolor": "#EBF0F8",
           "zerolinewidth": 2
          }
         }
        },
        "title": {
         "text": "Candlestick Chart with CCI, Divergence, and Convergence ,ADX and Stochastic (Daily) Dynamic"
        },
        "width": 1200,
        "xaxis": {
         "anchor": "y",
         "domain": [
          0,
          1
         ],
         "dtick": "D1",
         "matches": "x4",
         "rangeslider": {
          "visible": false
         },
         "showticklabels": false,
         "tickangle": 90,
         "tickformat": "%b %d %H:%M",
         "title": {
          "text": "Time"
         },
         "type": "category"
        },
        "xaxis2": {
         "anchor": "y2",
         "domain": [
          0,
          1
         ],
         "dtick": "D1",
         "matches": "x4",
         "rangeslider": {
          "visible": false
         },
         "showticklabels": false,
         "tickangle": 90,
         "tickformat": "%b %d %H:%M",
         "type": "category"
        },
        "xaxis3": {
         "anchor": "y3",
         "domain": [
          0,
          1
         ],
         "dtick": "D1",
         "matches": "x4",
         "rangeslider": {
          "visible": false
         },
         "showticklabels": false,
         "tickangle": 90,
         "tickformat": "%b %d %H:%M",
         "type": "category"
        },
        "xaxis4": {
         "anchor": "y4",
         "domain": [
          0,
          1
         ],
         "dtick": "D1",
         "rangeslider": {
          "visible": false
         },
         "showticklabels": false,
         "tickangle": 90,
         "tickformat": "%b %d %H:%M",
         "type": "category"
        },
        "yaxis": {
         "anchor": "x",
         "domain": [
          0.6240000000000001,
          1
         ],
         "title": {
          "text": "Price"
         }
        },
        "yaxis2": {
         "anchor": "x2",
         "domain": [
          0.416,
          0.604
         ],
         "title": {
          "text": "CCI"
         }
        },
        "yaxis3": {
         "anchor": "x3",
         "domain": [
          0.208,
          0.396
         ]
        },
        "yaxis4": {
         "anchor": "x4",
         "domain": [
          0,
          0.188
         ]
        }
       }
      }
     },
     "metadata": {},
     "output_type": "display_data"
    }
   ],
   "source": [
    "# ---- Load Data (Ensure You Replace This with Actual PostgreSQL Query) ----\n",
    "origin_df = pd.read_csv('../Gold Futures Historical Data.csv')\n",
    "origin_df.dropna(inplace=True)\n",
    "\n",
    "df = origin_df[['Date', 'Price','Open','High' ,'Low']]\n",
    "df = df.rename(columns={\n",
    "    'Date': 'date_time',\n",
    "    'Price': 'close',\n",
    "    'Open': 'open',\n",
    "    'High': 'high',\n",
    "    'Low': 'low'\n",
    "})\n",
    "\n",
    "# Convert to datetime format\n",
    "df['date_time'] = pd.to_datetime(df['date_time'])\n",
    "# Remove commas and convert to float\n",
    "for col in ['open', 'high', 'low', 'close']:\n",
    "    df[col] = df[col].astype(str).str.replace(',', '').astype(float)\n",
    "\n",
    "df = df.sort_values('date_time', ascending=True).reset_index(drop=True)\n",
    "\n",
    "# Set CCI window size\n",
    "n = 20\n",
    "\n",
    "# Compute Typical Price (TP)\n",
    "df['TP'] = (df['high'] + df['low'] + df['close']) / 3\n",
    "\n",
    "# Compute Simple Moving Average (SMA) of TP\n",
    "df['SMA_TP'] = df['TP'].rolling(window=n).mean()\n",
    "\n",
    "# Compute Mean Absolute Deviation (MAD)\n",
    "df['MAD'] = df['TP'].rolling(window=n).apply(lambda x: np.mean(np.abs(x - np.mean(x))), raw=True)\n",
    "\n",
    "# Compute CCI\n",
    "df['cci'] = (df['TP'] - df['SMA_TP']) / (0.015 * df['MAD'])\n",
    "\n",
    "# Compute ADX Indicator\n",
    "adx_period = 14\n",
    "df['TR'] = np.maximum(df['high'] - df['low'], np.maximum(abs(df['high'] - df['close'].shift(1)), abs(df['low'] - df['close'].shift(1))))\n",
    "df['+DM'] = np.where((df['high'] - df['high'].shift(1)) > (df['low'].shift(1) - df['low']), df['high'] - df['high'].shift(1), 0)\n",
    "df['-DM'] = np.where((df['low'].shift(1) - df['low']) > (df['high'] - df['high'].shift(1)), df['low'].shift(1) - df['low'], 0)\n",
    "df['TR_smooth'] = df['TR'].rolling(window=adx_period).mean()\n",
    "df['+DM_smooth'] = df['+DM'].rolling(window=adx_period).mean()\n",
    "df['-DM_smooth'] = df['-DM'].rolling(window=adx_period).mean()\n",
    "df['+DI'] = 100 * (df['+DM_smooth'] / df['TR_smooth'])\n",
    "df['-DI'] = 100 * (df['-DM_smooth'] / df['TR_smooth'])\n",
    "df['DX'] = 100 * abs(df['+DI'] - df['-DI']) / (df['+DI'] + df['-DI'])\n",
    "df['ADX'] = df['DX'].rolling(window=adx_period).mean()\n",
    "\n",
    "stoch_period = 14  # Lookback period\n",
    "smoothing_period = 3  # %D moving average period\n",
    "\n",
    "# Compute Stochastic %K\n",
    "df['stoch_k'] = 100 * (df['close'] - df['low'].rolling(window=stoch_period).min()) / \\\n",
    "                (df['high'].rolling(window=stoch_period).max() - df['low'].rolling(window=stoch_period).min())\n",
    "\n",
    "# Compute Stochastic %D (3-period SMA of %K)\n",
    "df['stoch_d'] = df['stoch_k'].rolling(window=smoothing_period).mean()\n",
    "\n",
    "# Compute ATR for volatility measurement\n",
    "df['ATR'] = df['high'].rolling(window=n).mean() - df['low'].rolling(window=n).mean()\n",
    "\n",
    "# Define baseline ATR for normalization (e.g., median ATR value)\n",
    "atr_baseline = df['ATR'].median()\n",
    "\n",
    "# Initialize signal columns\n",
    "df['bullish_divergence'] = 0\n",
    "df['bearish_divergence'] = 0\n",
    "df['bullish_convergence'] = 0\n",
    "df['bearish_convergence'] = 0\n",
    "\n",
    "for i in range(2, len(df)):\n",
    "    price_now, price_prev = df['close'].iloc[i], df['close'].iloc[i-1]\n",
    "    cci_now, cci_prev = df['cci'].iloc[i], df['cci'].iloc[i-1]\n",
    "\n",
    "    # Compute dynamic cooldown based on volatility\n",
    "    dynamic_cooldown = max(3, int(df['ATR'].fillna(0).iloc[i] / atr_baseline * 8))  # Adjust multiplier (5) as needed\n",
    "\n",
    "    # Bullish Divergence\n",
    "    if price_now < price_prev and cci_now > cci_prev and df['cci'][i] < -100:\n",
    "        if df['bullish_divergence'].shift(dynamic_cooldown).iloc[i] == 0:\n",
    "            df.loc[i, 'bullish_divergence'] = 1\n",
    "\n",
    "    # Bearish Divergence\n",
    "    if price_now > price_prev and cci_now < cci_prev and df['cci'][i] > 100:\n",
    "        if df['bearish_divergence'].shift(dynamic_cooldown).iloc[i] == 0:\n",
    "            df.loc[i, 'bearish_divergence'] = 1\n",
    "\n",
    "    # Bullish Convergence\n",
    "    if price_now > price_prev and cci_now > cci_prev:\n",
    "        if df['bullish_convergence'].shift(dynamic_cooldown).iloc[i] == 0:\n",
    "            df.loc[i, 'bullish_convergence'] = 1\n",
    "\n",
    "    # Bearish Convergence\n",
    "    if price_now < price_prev and cci_now < cci_prev:\n",
    "        if df['bearish_convergence'].shift(dynamic_cooldown).iloc[i] == 0:\n",
    "            df.loc[i, 'bearish_convergence'] = 1\n",
    "\n",
    "# ---- Set Time Window for Visualization ----\n",
    "end_date = df['date_time'].max()\n",
    "start_date = end_date - relativedelta(weeks=8)\n",
    "\n",
    "filtered_df_6h = df[(df['date_time'] >= start_date) & (df['date_time'] <= end_date)].copy()\n",
    "filtered_df_6h = filtered_df_6h.sort_values('date_time')  # Sort for correct plotting order\n",
    "\n",
    "# Convert timestamps to strings to enforce categorical axis\n",
    "filtered_df_6h['date_time'] = filtered_df_6h['date_time'].astype(str)\n",
    "\n",
    "# ---- Identify Divergence & Convergence Points in the Filtered Data ----\n",
    "bullish_points = filtered_df_6h[filtered_df_6h['bullish_divergence'] == 1]\n",
    "bearish_points = filtered_df_6h[filtered_df_6h['bearish_divergence'] == 1]\n",
    "bullish_convergence = filtered_df_6h[filtered_df_6h['bullish_convergence'] == 1]\n",
    "bearish_convergence = filtered_df_6h[filtered_df_6h['bearish_convergence'] == 1]\n",
    "\n",
    "# ---- Update Subplot Titles ----\n",
    "fig = make_subplots(rows=4, cols=1, shared_xaxes=True, \n",
    "                    vertical_spacing=0.02, subplot_titles=('Candlestick Chart', 'CCI', 'ADX', 'Stochastic Oscillator'), \n",
    "                    row_width=[0.2, 0.2, 0.2, 0.4])\n",
    "\n",
    "\n",
    "# ---- Candlestick Chart ----\n",
    "fig.add_trace(go.Candlestick(x=filtered_df_6h['date_time'],\n",
    "                             open=filtered_df_6h['open'], high=filtered_df_6h['high'],\n",
    "                             low=filtered_df_6h['low'], close=filtered_df_6h['close'], \n",
    "                             name='Candles'),\n",
    "              row=1, col=1)\n",
    "\n",
    "# ---- Divergence Markers ----\n",
    "# fig.add_trace(go.Scatter(x=bullish_points['date_time'], y=bullish_points['low'],\n",
    "#                          mode='markers', marker=dict(color='green', symbol='triangle-up', size=10),\n",
    "#                          name='Bullish Divergence'),\n",
    "#               row=1, col=1)\n",
    "\n",
    "# fig.add_trace(go.Scatter(x=bearish_points['date_time'], y=bearish_points['high'],\n",
    "#                          mode='markers', marker=dict(color='red', symbol='triangle-down', size=10),\n",
    "#                          name='Bearish Divergence'),\n",
    "#               row=1, col=1)\n",
    "\n",
    "# ---- CCI Oscillator ----\n",
    "fig.add_trace(go.Scatter(x=filtered_df_6h['date_time'], y=filtered_df_6h['cci'], \n",
    "                         mode='lines', name='CCI', \n",
    "                         line=dict(color='blue')),\n",
    "              row=2, col=1)\n",
    "\n",
    "# ---- ADX Indicator ----\n",
    "fig.add_trace(go.Scatter(x=filtered_df_6h['date_time'], y=filtered_df_6h['ADX'], \n",
    "                         mode='lines', name='ADX', \n",
    "                         line=dict(color='purple')),\n",
    "              row=3, col=1)\n",
    "\n",
    "# ---- Add Stochastic Oscillator (%K and %D) ----\n",
    "fig.add_trace(go.Scatter(x=filtered_df_6h['date_time'], y=filtered_df_6h['stoch_k'],\n",
    "                         mode='lines', name='%K', line=dict(color='blue')),\n",
    "              row=4, col=1)\n",
    "\n",
    "fig.add_trace(go.Scatter(x=filtered_df_6h['date_time'], y=filtered_df_6h['stoch_d'],\n",
    "                         mode='lines', name='%D', line=dict(color='orange')),\n",
    "              row=4, col=1)\n",
    "\n",
    "# ---- Overbought and Oversold Levels for Stochastic ----\n",
    "fig.add_shape(type=\"line\", x0=filtered_df_6h['date_time'].min(), x1=filtered_df_6h['date_time'].max(),\n",
    "              y0=80, y1=80, line=dict(color=\"red\", width=2, dash=\"dash\"), row=4, col=1, yref=\"y4\")\n",
    "\n",
    "fig.add_shape(type=\"line\", x0=filtered_df_6h['date_time'].min(), x1=filtered_df_6h['date_time'].max(),\n",
    "              y0=20, y1=20, line=dict(color=\"green\", width=2, dash=\"dash\"), row=4, col=1, yref=\"y4\")\n",
    "\n",
    "# ---- Divergence Points on CCI ----\n",
    "fig.add_trace(go.Scatter(x=bullish_points['date_time'], y=bullish_points['cci'],\n",
    "                         mode='markers', marker=dict(color='green', symbol='triangle-up', size=10),\n",
    "                         name='Bullish Divergence on CCI'),\n",
    "              row=2, col=1)\n",
    "\n",
    "fig.add_trace(go.Scatter(x=bearish_points['date_time'], y=bearish_points['cci'],\n",
    "                         mode='markers', marker=dict(color='red', symbol='triangle-down', size=10),\n",
    "                         name='Bearish Divergence on CCI'),\n",
    "              row=2, col=1)\n",
    "\n",
    "# ---- Convergence Points ----\n",
    "fig.add_trace(go.Scatter(x=bullish_convergence['date_time'], y=bullish_convergence['close'],\n",
    "                         mode='markers', marker=dict(color='blue', symbol='triangle-up', size=10),\n",
    "                         name='Bullish Convergence'),\n",
    "              row=1, col=1)\n",
    "\n",
    "fig.add_trace(go.Scatter(x=bearish_convergence['date_time'], y=bearish_convergence['close'],\n",
    "                         mode='markers', marker=dict(color='orange', symbol='triangle-down', size=10),\n",
    "                         name='Bearish Convergence'),\n",
    "              row=1, col=1)\n",
    "\n",
    "# ---- Overbought, Oversold, and Zero Lines ----\n",
    "fig.add_shape(type=\"line\", x0=filtered_df_6h['date_time'].min(), x1=filtered_df_6h['date_time'].max(),\n",
    "              y0=100, y1=100, line=dict(color=\"green\", width=2, dash=\"dash\"), row=2, col=1, yref=\"y2\")\n",
    "\n",
    "fig.add_shape(type=\"line\", x0=filtered_df_6h['date_time'].min(), x1=filtered_df_6h['date_time'].max(),\n",
    "              y0=-100, y1=-100, line=dict(color=\"purple\", width=2, dash=\"dash\"), row=2, col=1, yref=\"y2\")\n",
    "\n",
    "fig.add_shape(type=\"line\", x0=filtered_df_6h['date_time'].min(), x1=filtered_df_6h['date_time'].max(),\n",
    "              y0=0, y1=0, line=dict(color=\"black\", width=1, dash=\"dot\"), row=2, col=1, yref=\"y2\")\n",
    "\n",
    "# ---- Final Layout Formatting ----\n",
    "fig.update_layout(title='Candlestick Chart with CCI, Divergence, and Convergence ,ADX and Stochastic (Daily) Dynamic', \n",
    "                  yaxis_title='Price',\n",
    "                  xaxis_title='Time',\n",
    "                  yaxis2_title='CCI',\n",
    "                  showlegend=True,\n",
    "                  template=\"plotly_white\",\n",
    "                  height=800, width=1200)\n",
    "\n",
    "fig.update_xaxes(rangeslider_visible=False,type='category',tickformat=\"%b %d %H:%M\",  # Format similar to Trading Economics\n",
    "        dtick=\"D1\",showticklabels=False,  # Show labels at daily intervals (adjust as needed)\n",
    "        tickangle=90)\n",
    "\n",
    "# Show Figure\n",
    "fig.show()\n",
    "\n",
    "fig3_path = \"candlestick_6h.png\"\n",
    "# pio.write_image(fig, fig3_path, format='png')"
   ]
  },
  {
   "cell_type": "code",
   "execution_count": null,
   "metadata": {},
   "outputs": [],
   "source": []
  }
 ],
 "metadata": {
  "kernelspec": {
   "display_name": "test_env",
   "language": "python",
   "name": "python3"
  },
  "language_info": {
   "codemirror_mode": {
    "name": "ipython",
    "version": 3
   },
   "file_extension": ".py",
   "mimetype": "text/x-python",
   "name": "python",
   "nbconvert_exporter": "python",
   "pygments_lexer": "ipython3",
   "version": "3.10.0"
  }
 },
 "nbformat": 4,
 "nbformat_minor": 2
}
